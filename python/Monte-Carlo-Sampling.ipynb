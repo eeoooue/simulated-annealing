{
 "cells": [
  {
   "cell_type": "markdown",
   "id": "bc6bc478-82cc-427c-b238-95ee106283cd",
   "metadata": {},
   "source": [
    "# Tours of Campus\n",
    "\n",
    "We are interested in 'tours' of campus that start and end at a given point, and visit all other points exactly once.\n",
    "\n",
    "- How Many Different Paths Are Possible?\n"
   ]
  },
  {
   "cell_type": "markdown",
   "id": "48176d83-a10c-4621-ad7e-815770618e26",
   "metadata": {},
   "source": [
    "#### A Simpler Example\n",
    "\n",
    "To understand how we can represent and count tours for our problem, let's consider a map with only 3 points.\n",
    "\n",
    "A valid tour of such a map could be represented as a list of the integers 1 through 3, such as ```[1, 2, 3]```.\n",
    "\n",
    "For this map, there are 6 possible tour representations: ```[1, 2, 3]```, ```[1, 3, 2]```, ```[2, 1, 3]```, ```[2, 3, 1]```, ```[3, 1, 2]```, ```[3, 2, 1]```\n",
    "\n",
    "However, considering that tours return back to their starting point, some of these representations are effectively equivalent in the case of our problem:\n",
    "- ```[1, 2, 3]``` = ```[2, 3, 1]``` = ```[3, 1, 2]```\n",
    "- ```[1, 3, 2]``` = ```[3, 2, 1]``` = ```[2, 1, 3]```\n",
    "\n",
    "While there were 3! ways to represent solutions to the problem, there are only 2! meaningfully different tours represented in terms of the sequence of points visited.\n",
    "\n",
    "For our problem, there are (n-1)! meaningfully different ways to conduct a tour of a map with n points.\n",
    "\n",
    "We can think of this as choosing a specific point as the starting point for all solutions.\n"
   ]
  },
  {
   "cell_type": "markdown",
   "id": "1c002d8d-e8e5-4ecd-857f-a4b77752308e",
   "metadata": {},
   "source": [
    "#### Number of Ways to Tour Campus\n",
    "\n",
    "As there are 50 points on our map of campus, there are 49! different tours to be considered:\n",
    "\n",
    "```\n",
    "49! = 608,281,864,034,267,560,872,252,163,321,295,376,887,552,831,379,210,240,000,000,000\n",
    "```\n",
    "\n",
    "While we'd like to review each individually, this is completely unfeasible due to the vast number of solutions to evaluate.\n",
    "\n",
    "Instead, we will use **Monte Carlo Sampling** to estimate the distribution of path lengths for solutions to our problem.\n"
   ]
  },
  {
   "cell_type": "markdown",
   "id": "6d86b186-916e-439e-8988-29686d1c375b",
   "metadata": {},
   "source": [
    "#### Importing Packages"
   ]
  },
  {
   "cell_type": "code",
   "execution_count": 1,
   "id": "d2521473-d2fb-4b14-a4f1-cea6a196b5a9",
   "metadata": {},
   "outputs": [],
   "source": [
    "import random\n",
    "import numpy as np\n",
    "import pandas as pd"
   ]
  },
  {
   "cell_type": "markdown",
   "id": "0e960c0c-26c7-427c-98bb-3e017e6b3571",
   "metadata": {},
   "source": [
    "#### Loading the Dataset"
   ]
  },
  {
   "cell_type": "code",
   "execution_count": 4,
   "id": "b8bd4afb-a401-4eb4-b4ff-eb11ac99f091",
   "metadata": {},
   "outputs": [
    {
     "data": {
      "text/html": [
       "<div>\n",
       "<style scoped>\n",
       "    .dataframe tbody tr th:only-of-type {\n",
       "        vertical-align: middle;\n",
       "    }\n",
       "\n",
       "    .dataframe tbody tr th {\n",
       "        vertical-align: top;\n",
       "    }\n",
       "\n",
       "    .dataframe thead th {\n",
       "        text-align: right;\n",
       "    }\n",
       "</style>\n",
       "<table border=\"1\" class=\"dataframe\">\n",
       "  <thead>\n",
       "    <tr style=\"text-align: right;\">\n",
       "      <th></th>\n",
       "      <th>id</th>\n",
       "      <th>x</th>\n",
       "      <th>y</th>\n",
       "    </tr>\n",
       "  </thead>\n",
       "  <tbody>\n",
       "    <tr>\n",
       "      <th>0</th>\n",
       "      <td>1</td>\n",
       "      <td>453</td>\n",
       "      <td>68</td>\n",
       "    </tr>\n",
       "    <tr>\n",
       "      <th>1</th>\n",
       "      <td>2</td>\n",
       "      <td>678</td>\n",
       "      <td>108</td>\n",
       "    </tr>\n",
       "    <tr>\n",
       "      <th>2</th>\n",
       "      <td>3</td>\n",
       "      <td>556</td>\n",
       "      <td>168</td>\n",
       "    </tr>\n",
       "    <tr>\n",
       "      <th>3</th>\n",
       "      <td>4</td>\n",
       "      <td>461</td>\n",
       "      <td>205</td>\n",
       "    </tr>\n",
       "    <tr>\n",
       "      <th>4</th>\n",
       "      <td>5</td>\n",
       "      <td>836</td>\n",
       "      <td>234</td>\n",
       "    </tr>\n",
       "  </tbody>\n",
       "</table>\n",
       "</div>"
      ],
      "text/plain": [
       "   id    x    y\n",
       "0   1  453   68\n",
       "1   2  678  108\n",
       "2   3  556  168\n",
       "3   4  461  205\n",
       "4   5  836  234"
      ]
     },
     "execution_count": 4,
     "metadata": {},
     "output_type": "execute_result"
    }
   ],
   "source": [
    "data = pd.read_csv(\"map_data.csv\")\n",
    "data.head()"
   ]
  },
  {
   "cell_type": "markdown",
   "id": "2ac64fac-bb27-4e9f-abae-a2a535247501",
   "metadata": {},
   "source": [
    "#### Monte Carlo Sampling\n",
    "\n"
   ]
  },
  {
   "cell_type": "code",
   "execution_count": 2,
   "id": "e534d2ff-2b23-4bf0-bd49-ee7d0959bd62",
   "metadata": {},
   "outputs": [],
   "source": [
    "# generating initial state\n",
    "\n",
    "number_of_points = 50\n",
    "values = [(i+1) for i in range(number_of_points)]"
   ]
  },
  {
   "cell_type": "code",
   "execution_count": 3,
   "id": "0aba0867-3ad8-44c9-92d0-3af67cd0102f",
   "metadata": {},
   "outputs": [],
   "source": [
    "# creating permutations of the solution state\n",
    "\n",
    "sample_size = 10\n",
    "for i in range(sample_size):\n",
    "    shuffled_values = values[:]\n",
    "    random.shuffle(shuffled_values)"
   ]
  },
  {
   "cell_type": "code",
   "execution_count": null,
   "id": "69a89f91-4100-4dec-b944-b5f648ed661e",
   "metadata": {},
   "outputs": [],
   "source": []
  }
 ],
 "metadata": {
  "kernelspec": {
   "display_name": "Python 3 (ipykernel)",
   "language": "python",
   "name": "python3"
  },
  "language_info": {
   "codemirror_mode": {
    "name": "ipython",
    "version": 3
   },
   "file_extension": ".py",
   "mimetype": "text/x-python",
   "name": "python",
   "nbconvert_exporter": "python",
   "pygments_lexer": "ipython3",
   "version": "3.10.4"
  }
 },
 "nbformat": 4,
 "nbformat_minor": 5
}
