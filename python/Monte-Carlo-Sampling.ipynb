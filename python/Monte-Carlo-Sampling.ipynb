{
 "cells": [
  {
   "cell_type": "markdown",
   "id": "bc6bc478-82cc-427c-b238-95ee106283cd",
   "metadata": {},
   "source": [
    "# Tours of Campus\n",
    "\n",
    "We are interested in 'tours' of campus that start and end at a given point, and visit all other points exactly once.\n",
    "\n",
    "- How Many Different Paths Are Possible?\n"
   ]
  },
  {
   "cell_type": "markdown",
   "id": "48176d83-a10c-4621-ad7e-815770618e26",
   "metadata": {},
   "source": [
    "#### A Simpler Example\n",
    "\n",
    "To understand how we can represent and count tours for our problem, let's consider a map with only 3 points.\n",
    "\n",
    "A valid tour of such a map could be represented as a list of the integers 1 through 3, such as ```[1, 2, 3]```.\n",
    "\n",
    "For this map, there are 6 possible tour representations: ```[1, 2, 3]```, ```[1, 3, 2]```, ```[2, 1, 3]```, ```[2, 3, 1]```, ```[3, 1, 2]```, ```[3, 2, 1]```\n",
    "\n",
    "However, considering that tours return back to their starting point, some of these representations are effectively equivalent in the case of our problem:\n",
    "- ```[1, 2, 3]``` = ```[2, 3, 1]``` = ```[3, 1, 2]```\n",
    "- ```[1, 3, 2]``` = ```[3, 2, 1]``` = ```[2, 1, 3]```\n",
    "\n",
    "While there were 3! ways to represent solutions to the problem, there are only 2! meaningfully different tours represented in terms of the sequence of points visited.\n",
    "\n",
    "For our problem, there are (n-1)! meaningfully different ways to conduct a tour of a map with n points.\n",
    "\n",
    "We can think of this as choosing a specific point as the starting point for all solutions.\n"
   ]
  },
  {
   "cell_type": "markdown",
   "id": "1c002d8d-e8e5-4ecd-857f-a4b77752308e",
   "metadata": {},
   "source": [
    "#### Number of Ways to Tour Campus\n",
    "\n",
    "As there are 50 points on our map of campus, there are 49! different tours to be considered:\n",
    "\n",
    "```\n",
    "49! = 608,281,864,034,267,560,872,252,163,321,295,376,887,552,831,379,210,240,000,000,000\n",
    "```\n",
    "\n",
    "While we'd like to review each individually, this is completely unfeasible due to the vast number of solutions to evaluate.\n",
    "\n",
    "Instead, we will use **Monte Carlo Sampling** to estimate the distribution of path lengths for solutions to our problem.\n"
   ]
  },
  {
   "cell_type": "markdown",
   "id": "6d86b186-916e-439e-8988-29686d1c375b",
   "metadata": {},
   "source": [
    "#### Importing Packages"
   ]
  },
  {
   "cell_type": "code",
   "execution_count": 1,
   "id": "d2521473-d2fb-4b14-a4f1-cea6a196b5a9",
   "metadata": {},
   "outputs": [],
   "source": [
    "import random\n",
    "import numpy as np\n",
    "import pandas as pd\n",
    "import seaborn as sns\n",
    "import matplotlib.pyplot as plt\n",
    "import math"
   ]
  },
  {
   "cell_type": "markdown",
   "id": "c9b59995-ee99-4cd7-82f4-4175b2aa2da7",
   "metadata": {},
   "source": [
    "#### Importing Helpers"
   ]
  },
  {
   "cell_type": "code",
   "execution_count": 2,
   "id": "4fbd6e1b-b9c7-41a8-ba5c-a4d1623fcc9b",
   "metadata": {},
   "outputs": [],
   "source": [
    "from path_analyst import PathAnalyst"
   ]
  },
  {
   "cell_type": "markdown",
   "id": "2ac64fac-bb27-4e9f-abae-a2a535247501",
   "metadata": {},
   "source": [
    "#### Monte Carlo Sampling\n",
    "\n"
   ]
  },
  {
   "cell_type": "code",
   "execution_count": 3,
   "id": "e534d2ff-2b23-4bf0-bd49-ee7d0959bd62",
   "metadata": {},
   "outputs": [],
   "source": [
    "# generating initial state\n",
    "\n",
    "number_of_points = 50\n",
    "values = [(i+1) for i in range(number_of_points)]"
   ]
  },
  {
   "cell_type": "code",
   "execution_count": 4,
   "id": "0aba0867-3ad8-44c9-92d0-3af67cd0102f",
   "metadata": {},
   "outputs": [],
   "source": [
    "# creating permutations of the solution state\n",
    "\n",
    "sample_size = 500_000\n",
    "\n",
    "samples = []\n",
    "while len(samples) != sample_size:\n",
    "    shuffled_values = values[:]\n",
    "    random.shuffle(shuffled_values)\n",
    "    samples.append(shuffled_values)"
   ]
  },
  {
   "cell_type": "code",
   "execution_count": 5,
   "id": "69a89f91-4100-4dec-b944-b5f648ed661e",
   "metadata": {},
   "outputs": [
    {
     "name": "stdout",
     "output_type": "stream",
     "text": [
      "lengths found for sample paths: [13963, 14411, 12896, 13333, 13691, 13977, 13302, 13299, 15200, 13434]...\n",
      "lengths found ranged from 10161m - 16855m\n",
      "mean: 13762m\n",
      "standard deviation: 744m\n"
     ]
    }
   ],
   "source": [
    "\n",
    "analyst = PathAnalyst()\n",
    "\n",
    "lengths = []\n",
    "for sample in samples:\n",
    "    length = analyst.determine_path_length(sample)\n",
    "    lengths.append(length)\n",
    "\n",
    "min_path_length = min(lengths)\n",
    "max_path_length = max(lengths)\n",
    "mean_path_length = int(sum(lengths) / len(lengths))\n",
    "std_dev = int(np.std(lengths))\n",
    "\n",
    "print(f\"lengths found for sample paths: {lengths[:10]}...\")\n",
    "print(f\"lengths found ranged from {min_path_length}m - {max_path_length}m\")\n",
    "print(f\"mean: {mean_path_length}m\")\n",
    "print(f\"standard deviation: {std_dev}m\")\n"
   ]
  },
  {
   "cell_type": "markdown",
   "id": "6aed450a-b1b7-4cbe-898c-8659ce351568",
   "metadata": {},
   "source": [
    "#### Creating a DataFrame\n",
    "\n",
    "We'll use *pandas* to turn our samples into a dataset with labels for easy plotting."
   ]
  },
  {
   "cell_type": "code",
   "execution_count": 6,
   "id": "709b23a6-c591-40bf-b72e-d3da98661563",
   "metadata": {},
   "outputs": [
    {
     "data": {
      "text/html": [
       "<div>\n",
       "<style scoped>\n",
       "    .dataframe tbody tr th:only-of-type {\n",
       "        vertical-align: middle;\n",
       "    }\n",
       "\n",
       "    .dataframe tbody tr th {\n",
       "        vertical-align: top;\n",
       "    }\n",
       "\n",
       "    .dataframe thead th {\n",
       "        text-align: right;\n",
       "    }\n",
       "</style>\n",
       "<table border=\"1\" class=\"dataframe\">\n",
       "  <thead>\n",
       "    <tr style=\"text-align: right;\">\n",
       "      <th></th>\n",
       "      <th>Path Length (m)</th>\n",
       "    </tr>\n",
       "  </thead>\n",
       "  <tbody>\n",
       "    <tr>\n",
       "      <th>0</th>\n",
       "      <td>13963</td>\n",
       "    </tr>\n",
       "    <tr>\n",
       "      <th>1</th>\n",
       "      <td>14411</td>\n",
       "    </tr>\n",
       "    <tr>\n",
       "      <th>2</th>\n",
       "      <td>12896</td>\n",
       "    </tr>\n",
       "    <tr>\n",
       "      <th>3</th>\n",
       "      <td>13333</td>\n",
       "    </tr>\n",
       "    <tr>\n",
       "      <th>4</th>\n",
       "      <td>13691</td>\n",
       "    </tr>\n",
       "  </tbody>\n",
       "</table>\n",
       "</div>"
      ],
      "text/plain": [
       "   Path Length (m)\n",
       "0            13963\n",
       "1            14411\n",
       "2            12896\n",
       "3            13333\n",
       "4            13691"
      ]
     },
     "execution_count": 6,
     "metadata": {},
     "output_type": "execute_result"
    }
   ],
   "source": [
    "# creating a dictionary of the data\n",
    "\n",
    "feature_label = \"Path Length (m)\"\n",
    "\n",
    "dataset = {\n",
    "    feature_label: lengths\n",
    "}\n",
    "\n",
    "df = pd.DataFrame(data=dataset)\n",
    "df.head()"
   ]
  },
  {
   "cell_type": "markdown",
   "id": "c58167f5-37a5-41ca-a1b0-f24a82858769",
   "metadata": {},
   "source": [
    "#### Plotting the Distribution\n",
    "\n",
    "We'll use *seaborn* for a convenient distribution plot of the paths represented in our dataset."
   ]
  },
  {
   "cell_type": "code",
   "execution_count": 7,
   "id": "a2d926fc-0c2e-4805-9557-7a25986bfea6",
   "metadata": {},
   "outputs": [
    {
     "data": {
      "image/png": "[encoded data removed]",
      "text/plain": [
       "<Figure size 1066.67x600 with 1 Axes>"
      ]
     },
     "metadata": {},
     "output_type": "display_data"
    }
   ],
   "source": [
    "# plotting the distribution\n",
    "\n",
    "sns.displot(data=df[feature_label], kde=True, height=6, aspect=16/9)\n",
    "plt.xlim(0, math.ceil(max(lengths)/2000)*2000)\n",
    "plt.title(f\"Distribution of Path Lengths (n={len(lengths)})\")\n",
    "plt.show()"
   ]
  }
 ],
 "metadata": {
  "kernelspec": {
   "display_name": "Python 3 (ipykernel)",
   "language": "python",
   "name": "python3"
  },
  "language_info": {
   "codemirror_mode": {
    "name": "ipython",
    "version": 3
   },
   "file_extension": ".py",
   "mimetype": "text/x-python",
   "name": "python",
   "nbconvert_exporter": "python",
   "pygments_lexer": "ipython3",
   "version": "3.10.4"
  }
 },
 "nbformat": 4,
 "nbformat_minor": 5
}
